{
 "cells": [
  {
   "cell_type": "code",
   "execution_count": 1,
   "metadata": {},
   "outputs": [],
   "source": [
    "import numpy as np\n",
    "import pandas as pd\n",
    "import matplotlib.pyplot as plt"
   ]
  },
  {
   "cell_type": "code",
   "execution_count": 2,
   "metadata": {},
   "outputs": [
    {
     "data": {
      "text/html": [
       "<div>\n",
       "<style scoped>\n",
       "    .dataframe tbody tr th:only-of-type {\n",
       "        vertical-align: middle;\n",
       "    }\n",
       "\n",
       "    .dataframe tbody tr th {\n",
       "        vertical-align: top;\n",
       "    }\n",
       "\n",
       "    .dataframe thead th {\n",
       "        text-align: right;\n",
       "    }\n",
       "</style>\n",
       "<table border=\"1\" class=\"dataframe\">\n",
       "  <thead>\n",
       "    <tr style=\"text-align: right;\">\n",
       "      <th></th>\n",
       "      <th>volume</th>\n",
       "      <th>open</th>\n",
       "      <th>high</th>\n",
       "      <th>low</th>\n",
       "      <th>close</th>\n",
       "    </tr>\n",
       "    <tr>\n",
       "      <th>datetime</th>\n",
       "      <th></th>\n",
       "      <th></th>\n",
       "      <th></th>\n",
       "      <th></th>\n",
       "      <th></th>\n",
       "    </tr>\n",
       "  </thead>\n",
       "  <tbody>\n",
       "    <tr>\n",
       "      <th>2020-01-02 05:00:10</th>\n",
       "      <td>1</td>\n",
       "      <td>129.87</td>\n",
       "      <td>129.87</td>\n",
       "      <td>129.87</td>\n",
       "      <td>129.87</td>\n",
       "    </tr>\n",
       "    <tr>\n",
       "      <th>2020-01-02 05:00:20</th>\n",
       "      <td>1</td>\n",
       "      <td>129.85</td>\n",
       "      <td>129.85</td>\n",
       "      <td>129.85</td>\n",
       "      <td>129.85</td>\n",
       "    </tr>\n",
       "    <tr>\n",
       "      <th>2020-01-02 05:00:25</th>\n",
       "      <td>24</td>\n",
       "      <td>129.86</td>\n",
       "      <td>129.86</td>\n",
       "      <td>129.77</td>\n",
       "      <td>129.85</td>\n",
       "    </tr>\n",
       "    <tr>\n",
       "      <th>2020-01-02 05:00:35</th>\n",
       "      <td>6</td>\n",
       "      <td>129.86</td>\n",
       "      <td>129.86</td>\n",
       "      <td>129.85</td>\n",
       "      <td>129.85</td>\n",
       "    </tr>\n",
       "    <tr>\n",
       "      <th>2020-01-02 05:00:40</th>\n",
       "      <td>8</td>\n",
       "      <td>129.80</td>\n",
       "      <td>129.82</td>\n",
       "      <td>129.79</td>\n",
       "      <td>129.80</td>\n",
       "    </tr>\n",
       "  </tbody>\n",
       "</table>\n",
       "</div>"
      ],
      "text/plain": [
       "                     volume    open    high     low   close\n",
       "datetime                                                   \n",
       "2020-01-02 05:00:10       1  129.87  129.87  129.87  129.87\n",
       "2020-01-02 05:00:20       1  129.85  129.85  129.85  129.85\n",
       "2020-01-02 05:00:25      24  129.86  129.86  129.77  129.85\n",
       "2020-01-02 05:00:35       6  129.86  129.86  129.85  129.85\n",
       "2020-01-02 05:00:40       8  129.80  129.82  129.79  129.80"
      ]
     },
     "execution_count": 2,
     "metadata": {},
     "output_type": "execute_result"
    }
   ],
   "source": [
    "data_file_name = 'ETH_USD_data_2019-01-01_to_2021-12-31.csv'\n",
    "\n",
    "df = pd.read_csv(data_file_name)\n",
    "df.columns = ['datetime', 'volume', 'open', 'high', 'low', 'close']\n",
    "\n",
    "df.datetime = pd.to_datetime(df.datetime)\n",
    "\n",
    "df = df.set_index('datetime')\n",
    "\n",
    "df.head()"
   ]
  },
  {
   "cell_type": "code",
   "execution_count": 47,
   "metadata": {},
   "outputs": [
    {
     "data": {
      "text/plain": [
       "(1, 25000)"
      ]
     },
     "execution_count": 47,
     "metadata": {},
     "output_type": "execute_result"
    }
   ],
   "source": [
    "df2 = df.iloc[-5000:]\n",
    "\n",
    "df2 = df2 / df2.max()\n",
    "\n",
    "inputs = df2.values.flatten().reshape(1, 25000)\n",
    "inputs.shape"
   ]
  },
  {
   "cell_type": "code",
   "execution_count": 50,
   "metadata": {},
   "outputs": [
    {
     "data": {
      "text/plain": [
       "array([[[0.35426622, 0.55228177, 0.96920427, ..., 0.68937627,\n",
       "         0.65896906, 0.63807989]],\n",
       "\n",
       "       [[0.42794133, 0.70000931, 0.06600493, ..., 0.30525347,\n",
       "         0.39320533, 0.62850543]],\n",
       "\n",
       "       [[0.48770255, 0.90146069, 0.96891446, ..., 0.17199582,\n",
       "         0.25039126, 0.40454597]],\n",
       "\n",
       "       ...,\n",
       "\n",
       "       [[0.99679559, 0.0942115 , 0.95315386, ..., 0.47631089,\n",
       "         0.92063308, 0.65687163]],\n",
       "\n",
       "       [[0.50825559, 0.01020492, 0.26245482, ..., 0.78364085,\n",
       "         0.01214935, 0.83851437]],\n",
       "\n",
       "       [[0.99593611, 0.97811077, 0.66309253, ..., 0.43274641,\n",
       "         0.62625669, 0.18150148]]])"
      ]
     },
     "execution_count": 50,
     "metadata": {},
     "output_type": "execute_result"
    }
   ],
   "source": [
    "np.random.rand(32, 1,25000)"
   ]
  },
  {
   "cell_type": "code",
   "execution_count": 43,
   "metadata": {},
   "outputs": [
    {
     "data": {
      "text/plain": [
       "25000"
      ]
     },
     "execution_count": 43,
     "metadata": {},
     "output_type": "execute_result"
    }
   ],
   "source": [
    "len(df2.values.flatten())"
   ]
  },
  {
   "cell_type": "code",
   "execution_count": 48,
   "metadata": {},
   "outputs": [
    {
     "data": {
      "text/plain": [
       "array([[0.17167382, 0.99357041, 0.99346214, ..., 0.99713504, 0.99691388,\n",
       "        0.99700983]])"
      ]
     },
     "execution_count": 48,
     "metadata": {},
     "output_type": "execute_result"
    }
   ],
   "source": [
    "inputs"
   ]
  },
  {
   "cell_type": "code",
   "execution_count": 54,
   "metadata": {},
   "outputs": [
    {
     "name": "stdout",
     "output_type": "stream",
     "text": [
      "WARNING:tensorflow:5 out of the last 162 calls to <function Model.make_predict_function.<locals>.predict_function at 0x000001AA941703A0> triggered tf.function retracing. Tracing is expensive and the excessive number of tracings could be due to (1) creating @tf.function repeatedly in a loop, (2) passing tensors with different shapes, (3) passing Python objects instead of tensors. For (1), please define your @tf.function outside of the loop. For (2), @tf.function has experimental_relax_shapes=True option that relaxes argument shapes that can avoid unnecessary retracing. For (3), please refer to https://www.tensorflow.org/guide/function#controlling_retracing and https://www.tensorflow.org/api_docs/python/tf/function for  more details.\n"
     ]
    },
    {
     "data": {
      "text/plain": [
       "array([[[0.09129392, 0.09026738, 0.09081694, ..., 0.09049427,\n",
       "         0.09165929, 0.09030642],\n",
       "        [0.09312288, 0.08722349, 0.09034196, ..., 0.08850001,\n",
       "         0.09530057, 0.08744205],\n",
       "        [0.09312265, 0.08722388, 0.09034203, ..., 0.08850028,\n",
       "         0.09530009, 0.08744243],\n",
       "        ...,\n",
       "        [0.09313077, 0.08721039, 0.09033978, ..., 0.08849133,\n",
       "         0.09531654, 0.08742969],\n",
       "        [0.09313027, 0.08721118, 0.0903399 , ..., 0.08849186,\n",
       "         0.09531554, 0.08743046],\n",
       "        [0.09313049, 0.08721085, 0.09033985, ..., 0.08849163,\n",
       "         0.09531598, 0.08743013]]], dtype=float32)"
      ]
     },
     "execution_count": 54,
     "metadata": {},
     "output_type": "execute_result"
    }
   ],
   "source": [
    "num_actions = 11 # 5 levels of buy + 5 levels of sell + do nothing\n",
    "LEARNING_RATE = 0.00025\n",
    "\n",
    "\n",
    "import keras\n",
    "from keras import layers\n",
    "\n",
    "def create_q_model():\n",
    "\n",
    "    inputs = layers.Input(shape=(25000, 1)) # temp\n",
    "\n",
    "    layer1 = layers.Dense(1024, activation='relu')(inputs)\n",
    "    layer2 = layers.Dense(1024, activation='relu')(layer1)\n",
    "\n",
    "    action = layers.Dense(num_actions, activation='softmax')(layer2)\n",
    "\n",
    "    return keras.Model(inputs=inputs, outputs=action)\n",
    "\n",
    "# optimizer = keras.optimizers.Adam(learning_rate=LEARNING_RATE, clipnorm=1.0)\n",
    "\n",
    "# The first model makes the predictions for Q-values which are used to\n",
    "# make a action.\n",
    "model = create_q_model()\n",
    "\n",
    "prediction = model.predict(inputs)\n",
    "\n",
    "print(len(prediction))\n",
    "print(prediction)"
   ]
  },
  {
   "cell_type": "code",
   "execution_count": 53,
   "metadata": {},
   "outputs": [
    {
     "ename": "ValueError",
     "evalue": "in user code:\n\n    File \"d:\\Documents\\GitHub\\oanda-trading-bot\\venv\\lib\\site-packages\\keras\\engine\\training.py\", line 1801, in predict_function  *\n        return step_function(self, iterator)\n    File \"d:\\Documents\\GitHub\\oanda-trading-bot\\venv\\lib\\site-packages\\keras\\engine\\training.py\", line 1790, in step_function  **\n        outputs = model.distribute_strategy.run(run_step, args=(data,))\n    File \"d:\\Documents\\GitHub\\oanda-trading-bot\\venv\\lib\\site-packages\\keras\\engine\\training.py\", line 1783, in run_step  **\n        outputs = model.predict_step(data)\n    File \"d:\\Documents\\GitHub\\oanda-trading-bot\\venv\\lib\\site-packages\\keras\\engine\\training.py\", line 1751, in predict_step\n        return self(x, training=False)\n    File \"d:\\Documents\\GitHub\\oanda-trading-bot\\venv\\lib\\site-packages\\keras\\utils\\traceback_utils.py\", line 67, in error_handler\n        raise e.with_traceback(filtered_tb) from None\n    File \"d:\\Documents\\GitHub\\oanda-trading-bot\\venv\\lib\\site-packages\\keras\\engine\\input_spec.py\", line 264, in assert_input_compatibility\n        raise ValueError(f'Input {input_index} of layer \"{layer_name}\" is '\n\n    ValueError: Input 0 of layer \"model_13\" is incompatible with the layer: expected shape=(None, 25000), found shape=(32, 1, 25000)\n",
     "output_type": "error",
     "traceback": [
      "\u001b[1;31m---------------------------------------------------------------------------\u001b[0m",
      "\u001b[1;31mValueError\u001b[0m                                Traceback (most recent call last)",
      "\u001b[1;32md:\\Documents\\GitHub\\oanda-trading-bot\\analysis.ipynb Cell 8'\u001b[0m in \u001b[0;36m<cell line: 1>\u001b[1;34m()\u001b[0m\n\u001b[1;32m----> <a href='vscode-notebook-cell:/d%3A/Documents/GitHub/oanda-trading-bot/analysis.ipynb#ch0000007?line=0'>1</a>\u001b[0m model\u001b[39m.\u001b[39;49mpredict(np\u001b[39m.\u001b[39;49mrandom\u001b[39m.\u001b[39;49mrand(\u001b[39m32\u001b[39;49m, \u001b[39m1\u001b[39;49m,\u001b[39m25000\u001b[39;49m))\n",
      "File \u001b[1;32md:\\Documents\\GitHub\\oanda-trading-bot\\venv\\lib\\site-packages\\keras\\utils\\traceback_utils.py:67\u001b[0m, in \u001b[0;36mfilter_traceback.<locals>.error_handler\u001b[1;34m(*args, **kwargs)\u001b[0m\n\u001b[0;32m     <a href='file:///d%3A/Documents/GitHub/oanda-trading-bot/venv/lib/site-packages/keras/utils/traceback_utils.py?line=64'>65</a>\u001b[0m \u001b[39mexcept\u001b[39;00m \u001b[39mException\u001b[39;00m \u001b[39mas\u001b[39;00m e:  \u001b[39m# pylint: disable=broad-except\u001b[39;00m\n\u001b[0;32m     <a href='file:///d%3A/Documents/GitHub/oanda-trading-bot/venv/lib/site-packages/keras/utils/traceback_utils.py?line=65'>66</a>\u001b[0m   filtered_tb \u001b[39m=\u001b[39m _process_traceback_frames(e\u001b[39m.\u001b[39m__traceback__)\n\u001b[1;32m---> <a href='file:///d%3A/Documents/GitHub/oanda-trading-bot/venv/lib/site-packages/keras/utils/traceback_utils.py?line=66'>67</a>\u001b[0m   \u001b[39mraise\u001b[39;00m e\u001b[39m.\u001b[39mwith_traceback(filtered_tb) \u001b[39mfrom\u001b[39;00m \u001b[39mNone\u001b[39m\n\u001b[0;32m     <a href='file:///d%3A/Documents/GitHub/oanda-trading-bot/venv/lib/site-packages/keras/utils/traceback_utils.py?line=67'>68</a>\u001b[0m \u001b[39mfinally\u001b[39;00m:\n\u001b[0;32m     <a href='file:///d%3A/Documents/GitHub/oanda-trading-bot/venv/lib/site-packages/keras/utils/traceback_utils.py?line=68'>69</a>\u001b[0m   \u001b[39mdel\u001b[39;00m filtered_tb\n",
      "File \u001b[1;32md:\\Documents\\GitHub\\oanda-trading-bot\\venv\\lib\\site-packages\\tensorflow\\python\\framework\\func_graph.py:1147\u001b[0m, in \u001b[0;36mfunc_graph_from_py_func.<locals>.autograph_handler\u001b[1;34m(*args, **kwargs)\u001b[0m\n\u001b[0;32m   <a href='file:///d%3A/Documents/GitHub/oanda-trading-bot/venv/lib/site-packages/tensorflow/python/framework/func_graph.py?line=1144'>1145</a>\u001b[0m \u001b[39mexcept\u001b[39;00m \u001b[39mException\u001b[39;00m \u001b[39mas\u001b[39;00m e:  \u001b[39m# pylint:disable=broad-except\u001b[39;00m\n\u001b[0;32m   <a href='file:///d%3A/Documents/GitHub/oanda-trading-bot/venv/lib/site-packages/tensorflow/python/framework/func_graph.py?line=1145'>1146</a>\u001b[0m   \u001b[39mif\u001b[39;00m \u001b[39mhasattr\u001b[39m(e, \u001b[39m\"\u001b[39m\u001b[39mag_error_metadata\u001b[39m\u001b[39m\"\u001b[39m):\n\u001b[1;32m-> <a href='file:///d%3A/Documents/GitHub/oanda-trading-bot/venv/lib/site-packages/tensorflow/python/framework/func_graph.py?line=1146'>1147</a>\u001b[0m     \u001b[39mraise\u001b[39;00m e\u001b[39m.\u001b[39mag_error_metadata\u001b[39m.\u001b[39mto_exception(e)\n\u001b[0;32m   <a href='file:///d%3A/Documents/GitHub/oanda-trading-bot/venv/lib/site-packages/tensorflow/python/framework/func_graph.py?line=1147'>1148</a>\u001b[0m   \u001b[39melse\u001b[39;00m:\n\u001b[0;32m   <a href='file:///d%3A/Documents/GitHub/oanda-trading-bot/venv/lib/site-packages/tensorflow/python/framework/func_graph.py?line=1148'>1149</a>\u001b[0m     \u001b[39mraise\u001b[39;00m\n",
      "\u001b[1;31mValueError\u001b[0m: in user code:\n\n    File \"d:\\Documents\\GitHub\\oanda-trading-bot\\venv\\lib\\site-packages\\keras\\engine\\training.py\", line 1801, in predict_function  *\n        return step_function(self, iterator)\n    File \"d:\\Documents\\GitHub\\oanda-trading-bot\\venv\\lib\\site-packages\\keras\\engine\\training.py\", line 1790, in step_function  **\n        outputs = model.distribute_strategy.run(run_step, args=(data,))\n    File \"d:\\Documents\\GitHub\\oanda-trading-bot\\venv\\lib\\site-packages\\keras\\engine\\training.py\", line 1783, in run_step  **\n        outputs = model.predict_step(data)\n    File \"d:\\Documents\\GitHub\\oanda-trading-bot\\venv\\lib\\site-packages\\keras\\engine\\training.py\", line 1751, in predict_step\n        return self(x, training=False)\n    File \"d:\\Documents\\GitHub\\oanda-trading-bot\\venv\\lib\\site-packages\\keras\\utils\\traceback_utils.py\", line 67, in error_handler\n        raise e.with_traceback(filtered_tb) from None\n    File \"d:\\Documents\\GitHub\\oanda-trading-bot\\venv\\lib\\site-packages\\keras\\engine\\input_spec.py\", line 264, in assert_input_compatibility\n        raise ValueError(f'Input {input_index} of layer \"{layer_name}\" is '\n\n    ValueError: Input 0 of layer \"model_13\" is incompatible with the layer: expected shape=(None, 25000), found shape=(32, 1, 25000)\n"
     ]
    }
   ],
   "source": [
    "model.predict(np.random.rand(32, 1,25000))"
   ]
  }
 ],
 "metadata": {
  "interpreter": {
   "hash": "128d1724e3275cb1693ee0e45be1e8b5278abae247d39cc9cf6f3597bed116f5"
  },
  "kernelspec": {
   "display_name": "Python 3.10.2 ('venv': venv)",
   "language": "python",
   "name": "python3"
  },
  "language_info": {
   "codemirror_mode": {
    "name": "ipython",
    "version": 3
   },
   "file_extension": ".py",
   "mimetype": "text/x-python",
   "name": "python",
   "nbconvert_exporter": "python",
   "pygments_lexer": "ipython3",
   "version": "3.10.2"
  },
  "orig_nbformat": 4
 },
 "nbformat": 4,
 "nbformat_minor": 2
}
