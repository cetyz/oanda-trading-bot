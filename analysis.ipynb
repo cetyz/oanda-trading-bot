{
 "cells": [
  {
   "cell_type": "code",
   "execution_count": 1,
   "metadata": {},
   "outputs": [],
   "source": [
    "import numpy as np\n",
    "import pandas as pd\n",
    "import matplotlib.pyplot as plt"
   ]
  },
  {
   "cell_type": "code",
   "execution_count": 5,
   "metadata": {},
   "outputs": [
    {
     "name": "stdout",
     "output_type": "stream",
     "text": [
      "2020-02-11 00:23:25\n"
     ]
    },
    {
     "data": {
      "text/html": [
       "<div>\n",
       "<style scoped>\n",
       "    .dataframe tbody tr th:only-of-type {\n",
       "        vertical-align: middle;\n",
       "    }\n",
       "\n",
       "    .dataframe tbody tr th {\n",
       "        vertical-align: top;\n",
       "    }\n",
       "\n",
       "    .dataframe thead th {\n",
       "        text-align: right;\n",
       "    }\n",
       "</style>\n",
       "<table border=\"1\" class=\"dataframe\">\n",
       "  <thead>\n",
       "    <tr style=\"text-align: right;\">\n",
       "      <th></th>\n",
       "      <th>datetime</th>\n",
       "      <th>volume</th>\n",
       "      <th>open</th>\n",
       "      <th>high</th>\n",
       "      <th>low</th>\n",
       "      <th>close</th>\n",
       "    </tr>\n",
       "  </thead>\n",
       "  <tbody>\n",
       "    <tr>\n",
       "      <th>0</th>\n",
       "      <td>2002-05-07 20:59:35</td>\n",
       "      <td>1</td>\n",
       "      <td>127.92</td>\n",
       "      <td>127.92</td>\n",
       "      <td>127.92</td>\n",
       "      <td>127.92</td>\n",
       "    </tr>\n",
       "    <tr>\n",
       "      <th>1</th>\n",
       "      <td>2002-05-08 20:59:15</td>\n",
       "      <td>1</td>\n",
       "      <td>128.92</td>\n",
       "      <td>128.92</td>\n",
       "      <td>128.92</td>\n",
       "      <td>128.92</td>\n",
       "    </tr>\n",
       "    <tr>\n",
       "      <th>2</th>\n",
       "      <td>2002-05-09 20:59:50</td>\n",
       "      <td>1</td>\n",
       "      <td>128.38</td>\n",
       "      <td>128.38</td>\n",
       "      <td>128.38</td>\n",
       "      <td>128.38</td>\n",
       "    </tr>\n",
       "    <tr>\n",
       "      <th>3</th>\n",
       "      <td>2002-05-10 20:59:50</td>\n",
       "      <td>1</td>\n",
       "      <td>127.63</td>\n",
       "      <td>127.63</td>\n",
       "      <td>127.63</td>\n",
       "      <td>127.63</td>\n",
       "    </tr>\n",
       "    <tr>\n",
       "      <th>4</th>\n",
       "      <td>2002-05-10 22:10:00</td>\n",
       "      <td>1</td>\n",
       "      <td>127.62</td>\n",
       "      <td>127.62</td>\n",
       "      <td>127.62</td>\n",
       "      <td>127.62</td>\n",
       "    </tr>\n",
       "  </tbody>\n",
       "</table>\n",
       "</div>"
      ],
      "text/plain": [
       "             datetime  volume    open    high     low   close\n",
       "0 2002-05-07 20:59:35       1  127.92  127.92  127.92  127.92\n",
       "1 2002-05-08 20:59:15       1  128.92  128.92  128.92  128.92\n",
       "2 2002-05-09 20:59:50       1  128.38  128.38  128.38  128.38\n",
       "3 2002-05-10 20:59:50       1  127.63  127.63  127.63  127.63\n",
       "4 2002-05-10 22:10:00       1  127.62  127.62  127.62  127.62"
      ]
     },
     "execution_count": 5,
     "metadata": {},
     "output_type": "execute_result"
    }
   ],
   "source": [
    "data_file_name = 'USD_JPY_data_2001-01-01_to_2020-02-10.csv'\n",
    "\n",
    "df = pd.read_csv(data_file_name)\n",
    "df.columns = ['datetime', 'volume', 'open', 'high', 'low', 'close']\n",
    "\n",
    "df.datetime = pd.to_datetime(df.datetime)\n",
    "\n",
    "print(df.datetime.max())\n",
    "\n",
    "df.head()"
   ]
  }
 ],
 "metadata": {
  "interpreter": {
   "hash": "128d1724e3275cb1693ee0e45be1e8b5278abae247d39cc9cf6f3597bed116f5"
  },
  "kernelspec": {
   "display_name": "Python 3.10.2 ('venv': venv)",
   "language": "python",
   "name": "python3"
  },
  "language_info": {
   "codemirror_mode": {
    "name": "ipython",
    "version": 3
   },
   "file_extension": ".py",
   "mimetype": "text/x-python",
   "name": "python",
   "nbconvert_exporter": "python",
   "pygments_lexer": "ipython3",
   "version": "3.10.2"
  },
  "orig_nbformat": 4
 },
 "nbformat": 4,
 "nbformat_minor": 2
}
